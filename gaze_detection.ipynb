{
 "cells": [
  {
   "cell_type": "code",
   "execution_count": 2,
   "id": "0190278c",
   "metadata": {},
   "outputs": [
    {
     "name": "stdout",
     "output_type": "stream",
     "text": [
      "Error reading frame.\n"
     ]
    }
   ],
   "source": [
    "import cv2\n",
    "import dlib\n",
    " \n",
    " \n",
    "def detect_face_orientation(video_source=0):\n",
    "    # Open a connection to the video source (0 for default camera)\n",
    "    cap = cv2.VideoCapture(video_source)\n",
    " \n",
    "    # Initialize the face detector from dlib\n",
    "    face_detector = dlib.get_frontal_face_detector()\n",
    "    landmarks_predictor = dlib.shape_predictor(\n",
    "        \"shape_predictor_68_face_landmarks.dat\")  # You need to download this file\n",
    " \n",
    "    while True:\n",
    "        # Capture frame-by-frame\n",
    "        ret, frame = cap.read()\n",
    "        if not ret:\n",
    "            print(\"Error reading frame.\")\n",
    "            break\n",
    " \n",
    "        # Convert the frame to grayscale for face detection\n",
    "        gray = cv2.cvtColor(frame, cv2.COLOR_BGR2GRAY)\n",
    " \n",
    "        # Detect faces in the frame\n",
    "        faces = face_detector(gray)\n",
    " \n",
    "        # Check if a face is detected\n",
    "        if len(faces) > 0:\n",
    "            # Assume only one face in the frame for simplicity\n",
    "            face = faces[0]\n",
    " \n",
    "            # Detect facial landmarks\n",
    "            landmarks = landmarks_predictor(gray, face)\n",
    " \n",
    "            # Extract relevant landmarks for orientation estimation\n",
    "            left_eye = (landmarks.part(36).x, landmarks.part(36).y)\n",
    "            right_eye = (landmarks.part(45).x, landmarks.part(45).y)\n",
    "            nose_tip = (landmarks.part(30).x, landmarks.part(30).y)\n",
    " \n",
    "            # Calculate the midpoint of the eyes\n",
    "            eyes_midpoint = (\n",
    "                (left_eye[0] + right_eye[0]) // 2, (left_eye[1] + right_eye[1]) // 2)\n",
    " \n",
    "            # Calculate the horizontal distance between the midpoint of the eyes and the nose tip\n",
    "            horizontal_distance = abs(nose_tip[0] - eyes_midpoint[0])\n",
    " \n",
    "            # Set a threshold for the horizontal distance to classify the orientation\n",
    "            if horizontal_distance < 10:  # Adjust the threshold as needed\n",
    "                orientation = \"Keyboard\"\n",
    "            elif nose_tip[0] > eyes_midpoint[0]:\n",
    "                orientation = \"phone\"\n",
    "            else:\n",
    "                orientation = \"laptop\"\n",
    " \n",
    "            # Display the result on the frame\n",
    "            cv2.putText(frame, f\"Customer 102 is looking at {orientation}\", (\n",
    "                10, 30), cv2.FONT_HERSHEY_SIMPLEX, 1, (0, 255, 0), 2)\n",
    " \n",
    "        # Display the frame\n",
    "        cv2.imshow(\"Face Orientation Analysis\", frame)\n",
    " \n",
    "        # Break the loop if 'q' is pressed\n",
    "        if cv2.waitKey(1) & 0xFF == ord('q'):\n",
    "            break\n",
    " \n",
    "    # Release the camera and close all OpenCV windows\n",
    "    cap.release()\n",
    "    cv2.destroyAllWindows()\n",
    " \n",
    " \n",
    "if __name__ == \"__main__\":\n",
    "    detect_face_orientation()"
   ]
  },
  {
   "cell_type": "code",
   "execution_count": null,
   "metadata": {},
   "outputs": [],
   "source": []
  },
  {
   "cell_type": "code",
   "execution_count": null,
   "id": "f6ac09db",
   "metadata": {},
   "outputs": [],
   "source": []
  }
 ],
 "metadata": {
  "kernelspec": {
   "display_name": "Python 3 (ipykernel)",
   "language": "python",
   "name": "python3"
  },
  "language_info": {
   "codemirror_mode": {
    "name": "ipython",
    "version": 3
   },
   "file_extension": ".py",
   "mimetype": "text/x-python",
   "name": "python",
   "nbconvert_exporter": "python",
   "pygments_lexer": "ipython3",
   "version": "3.11.3"
  }
 },
 "nbformat": 4,
 "nbformat_minor": 5
}
